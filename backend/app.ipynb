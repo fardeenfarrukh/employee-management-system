{
 "cells": [
  {
   "cell_type": "code",
   "execution_count": 1,
   "id": "a4cb6f8c-6f70-4ee2-9cb9-d8facea1f461",
   "metadata": {},
   "outputs": [],
   "source": [
    "import sqlite3\n",
    "import customtkinter\n",
    "from tkinter import messagebox\n",
    "from tkinter import *\n",
    "from tkinter import ttk\n",
    "\n",
    "database_path = r\"C:\\Users\\yaguc\\Downloads\\JP Morgan Documents\\Week 3\\Day 5\\Employee Management System\\database\\Employee.db\""
   ]
  },
  {
   "cell_type": "code",
   "execution_count": 3,
   "id": "cdf9bc3e-5b7e-4d4c-93c3-e13b4a2496de",
   "metadata": {},
   "outputs": [
    {
     "name": "stdout",
     "output_type": "stream",
     "text": [
      "Connection successful!\n"
     ]
    }
   ],
   "source": [
    "def create_connection():\n",
    "    try:\n",
    "        db = sqlite3.connect(database_path)\n",
    "        print(\"Connection successful!\")\n",
    "        return db\n",
    "    except sqlite3.Error as e:\n",
    "        messagebox.showinfo(f\"Error connecting to database: {e}\")\n",
    "        return None\n",
    "db = create_connection()\n",
    "if db:\n",
    "    db.close()"
   ]
  },
  {
   "cell_type": "code",
   "execution_count": 4,
   "id": "1b5c7c98-847a-41a2-a5f4-84e01e57cab0",
   "metadata": {},
   "outputs": [],
   "source": [
    "def add_employee(first_name, last_name, email, phone, hire_date, department_id):\n",
    "    db = create_connection()\n",
    "    if db is not None:\n",
    "        cursor = db.cursor()\n",
    "    try:\n",
    "        cursor.execute(\"SELECT email FROM Employees WHERE email = ?\", (email,))\n",
    "        result = cursor.fetchone()\n",
    "        if result:\n",
    "            messagebox.showinfo(\"Error\", \"Email already exists, please use a different email.\")\n",
    "        else:\n",
    "            cursor.execute(\"\"\"\n",
    "            INSERT INTO Employees(first_name, last_name, email, phone, hire_date, department_id)\n",
    "            VALUES (?, ?, ?, ?, ?, ?)\"\"\",\n",
    "            (first_name, last_name, email, phone, hire_date, department_id))\n",
    "            db.commit()\n",
    "            messagebox.showinfo(\"Success\", \"Employee added successfully\")\n",
    "    except sqlite3.Error as e:\n",
    "        messagebox.showinfo(\"Error\", f\"Error adding employee: {e}\")\n",
    "    finally:\n",
    "        cursor.close()\n",
    "        db.close()"
   ]
  },
  {
   "cell_type": "code",
   "execution_count": 5,
   "id": "21f64382-cd3e-456a-9af8-42bb8d977c45",
   "metadata": {},
   "outputs": [],
   "source": [
    "def update_employee(employee_id, first_name, last_name, email, phone, hire_date, department_id):\n",
    "    db = create_connection()\n",
    "    cursor = db.cursor()\n",
    "    try:\n",
    "        cursor.execute(\"\"\"\n",
    "        UPDATE Employees\n",
    "        SET first_name = ?, last_name = ?, email = ?, phone = ?, hire_date = ?, department_id = ?\n",
    "        WHERE employee_id = ?\"\"\",\n",
    "        (first_name, last_name, email, phone, hire_date, department_id, employee_id))\n",
    "        db.commit()\n",
    "        messagebox.showinfo(\"Success\", \"Employee updated successfully\")\n",
    "    except sqlite3.Error as e:\n",
    "        messagebox.showinfo(\"Error\", f\"Error updating employee: {e}\")\n",
    "    finally:\n",
    "        cursor.close()\n",
    "        db.close()"
   ]
  },
  {
   "cell_type": "code",
   "execution_count": 9,
   "id": "cf04dacd-44b2-401d-bb14-d1f3c8a17b65",
   "metadata": {},
   "outputs": [],
   "source": [
    "def delete_employee(employee_id):\n",
    "    db = create_connection()\n",
    "    cursor = db.cursor()\n",
    "    try:\n",
    "        cursor.execute(\"DELETE FROM Employees WHERE employee_id = ?\", (employee_id))\n",
    "        db.commit()\n",
    "        messagebox.showinfo(\"Success\", \"Employee deleted successfully\")\n",
    "    except sqlite3.Error as e:\n",
    "        messagebox.showinfo(\"Error\", f\"Error deleting employee: {e}\")\n",
    "    finally:\n",
    "        cursor.close()\n",
    "        db.close()"
   ]
  },
  {
   "cell_type": "code",
   "execution_count": 11,
   "id": "1dc7132d-9cc3-4165-8368-39143bd4056d",
   "metadata": {},
   "outputs": [],
   "source": [
    "def display_employee(employee_id):\n",
    "    db = create_connection()\n",
    "    cursor = db.cursor()\n",
    "    try:\n",
    "        cursor.execute(\"SELECT * FROM Employees\")\n",
    "        rows = cursor.fetchall()\n",
    "        for row in rows:\n",
    "            print(row)\n",
    "    except sqlite3.Error as e:\n",
    "        messagebox.showinfo(f\"Error fetching data: {e}\")\n",
    "    finally:\n",
    "        cursor.close()\n",
    "        db.close()"
   ]
  },
  {
   "cell_type": "code",
   "execution_count": 13,
   "id": "a6b2907d-9590-40ba-8f80-a99207f3c3fa",
   "metadata": {},
   "outputs": [],
   "source": [
    "app = customtkinter.CTk()"
   ]
  },
  {
   "cell_type": "code",
   "execution_count": 15,
   "id": "d7795505-7023-478b-9f0a-73fd6636508b",
   "metadata": {},
   "outputs": [],
   "source": [
    "app.geometry(\"600X600\")"
   ]
  },
  {
   "cell_type": "code",
   "execution_count": 17,
   "id": "85917e89-080c-4a30-81b4-5aff0c2db128",
   "metadata": {},
   "outputs": [],
   "source": [
    "first_name_label = customtkinter.CTkLabel(app, text=\"First Name:\")\n",
    "first_name_label.grid(row=0, column=0, padx=11, pady=11)\n",
    "first_name_entry = customtkinter.CTkEntry(app)\n",
    "first_name_entry.grid(row=0, column=1, padx=11, pady=11)\n",
    "\n",
    "last_name_label = customtkinter.CTkLabel(app, text=\"Last Name:\")\n",
    "last_name_label.grid(row=1, column=0, padx=11, pady=11)\n",
    "last_name_entry = customtkinter.CTkEntry(app)\n",
    "last_name_entry.grid(row=1, column=1, padx=11, pady=11)\n",
    "\n",
    "email_label = customtkinter.CTkLabel(app, text=\"Email:\")\n",
    "email_label.grid(row=2, column=0, padx=11, pady=11)\n",
    "email_entry = customtkinter.CTkEntry(app)\n",
    "email_entry.grid(row=2, column=1, padx=11, pady=11)\n",
    "\n",
    "phone_label = customtkinter.CTkLabel(app, text=\"Phone:\")\n",
    "phone_label.grid(row=3, column=0, padx=11, pady=11)\n",
    "phone_entry = customtkinter.CTkEntry(app)\n",
    "phone_entry.grid(row=3, column=1, padx=11, pady=11)\n",
    "\n",
    "hire_date_label = customtkinter.CTkLabel(app, text=\"Hire Date:\")\n",
    "hire_date_label.grid(row=4, column=0, padx=11, pady=11)\n",
    "hire_date_entry = customtkinter.CTkEntry(app)\n",
    "hire_date_entry.grid(row=4, column=1, padx=11, pady=11)\n",
    "\n",
    "department_label = customtkinter.CTkLabel(app, text=\"Department ID:\")\n",
    "department_label.grid(row=5, column=0, padx=11, pady=11)\n",
    "department_entry = customtkinter.CTkEntry(app)\n",
    "department_entry.grid(row=5, column=1, padx=11, pady=11)\n",
    "\n",
    "employee_id_label = customtkinter.CTkLabel(app, text=\"Employee ID:\")\n",
    "employee_id_label.grid(row=6, column=0, padx=11, pady=11)\n",
    "employee_id_entry = customtkinter.CTkEntry(app)\n",
    "employee_id_entry.grid(row=6, column=1, padx=11, pady=11)"
   ]
  },
  {
   "cell_type": "code",
   "execution_count": 19,
   "id": "69b9bfcc-b779-4fa4-ab0e-06915d8e3a58",
   "metadata": {},
   "outputs": [],
   "source": [
    "add_button = customtkinter.CTkButton(app, text=\"Add Employee\",\n",
    "                                    command=lambda: add_employee(\n",
    "                                        first_name_entry.get(),\n",
    "                                        last_name_entry.get(),\n",
    "                                        email_entry.get(),\n",
    "                                        phone_entry.get(),\n",
    "                                        hire_date_entry.get(),\n",
    "                                        department_entry.get(),\n",
    "                                    ))\n",
    "add_button.grid(rows=7, column=0, padx=11, pady=11)"
   ]
  },
  {
   "cell_type": "code",
   "execution_count": 21,
   "id": "f2103a9a-9041-4f96-bf14-928898bb68c7",
   "metadata": {},
   "outputs": [],
   "source": [
    "update_button = customtkinter.CTkButton(app, text=\"Update Employee\",\n",
    "                                    command=lambda: update_employee(\n",
    "                                        first_name_entry.get(),\n",
    "                                        last_name_entry.get(),\n",
    "                                        email_entry.get(),\n",
    "                                        phone_entry.get(),\n",
    "                                        hire_date_entry.get(),\n",
    "                                        department_entry.get(),\n",
    "                                    ))\n",
    "update_button.grid(rows=8, column=0, padx=11, pady=11)"
   ]
  },
  {
   "cell_type": "code",
   "execution_count": 23,
   "id": "f9e3479e-672c-4ccf-9d0f-45cc007e5a39",
   "metadata": {},
   "outputs": [],
   "source": [
    "delete_button = customtkinter.CTkButton(app, text=\"Delete Employee\",\n",
    "                                    command=lambda: delete_employee(\n",
    "                                        employee_id_entry.get()))\n",
    "delete_button.grid(rows=9, column=0, padx=11, pady=11)"
   ]
  },
  {
   "cell_type": "code",
   "execution_count": 25,
   "id": "afe75dfa-aa7d-4c86-b2aa-f2dbaecb04f0",
   "metadata": {},
   "outputs": [],
   "source": [
    "display_button = customtkinter.CTkButton(app, text=\"Display Employee\",\n",
    "                                    command=display_employee)\n",
    "display_button.grid(rows=10, column=0, padx=11, pady=11)"
   ]
  },
  {
   "cell_type": "code",
   "execution_count": 27,
   "id": "0e84cfaf-9bd9-425b-bbe6-c47caac46000",
   "metadata": {},
   "outputs": [],
   "source": [
    "app.mainloop()"
   ]
  }
 ],
 "metadata": {
  "kernelspec": {
   "display_name": "Python 3 (ipykernel)",
   "language": "python",
   "name": "python3"
  },
  "language_info": {
   "codemirror_mode": {
    "name": "ipython",
    "version": 3
   },
   "file_extension": ".py",
   "mimetype": "text/x-python",
   "name": "python",
   "nbconvert_exporter": "python",
   "pygments_lexer": "ipython3",
   "version": "3.12.4"
  }
 },
 "nbformat": 4,
 "nbformat_minor": 5
}
